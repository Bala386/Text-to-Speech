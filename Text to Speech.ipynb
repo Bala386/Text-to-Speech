{
 "cells": [
  {
   "cell_type": "code",
   "execution_count": 1,
   "id": "5d0f01b7",
   "metadata": {},
   "outputs": [
    {
     "data": {
      "text/plain": [
       "0"
      ]
     },
     "execution_count": 1,
     "metadata": {},
     "output_type": "execute_result"
    }
   ],
   "source": [
    "\n",
    "\n",
    "from gtts import gTTS\n",
    "import os\n",
    "\n",
    "text = \"Hello! Welcome to my Text to Speech project using Python and NLP.\"\n",
    "\n",
    "language = 'en'\n",
    "\n",
    "tts = gTTS(text=text, lang=language, slow=False)\n",
    "\n",
    "tts.save(\"output.mp3\")\n",
    "os.system(\"start output.mp3\")  \n"
   ]
  }
 ],
 "metadata": {
  "kernelspec": {
   "display_name": "Python 3",
   "language": "python",
   "name": "python3"
  },
  "language_info": {
   "codemirror_mode": {
    "name": "ipython",
    "version": 3
   },
   "file_extension": ".py",
   "mimetype": "text/x-python",
   "name": "python",
   "nbconvert_exporter": "python",
   "pygments_lexer": "ipython3",
   "version": "3.13.3"
  }
 },
 "nbformat": 4,
 "nbformat_minor": 5
}
